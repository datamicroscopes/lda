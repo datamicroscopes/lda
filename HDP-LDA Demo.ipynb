{
 "cells": [
  {
   "cell_type": "code",
   "execution_count": 1,
   "metadata": {
    "collapsed": true
   },
   "outputs": [],
   "source": [
    "from microscopes.common.rng import rng\n",
    "from microscopes.lda.definition import model_definition\n",
    "from microscopes.lda.model import initialize\n",
    "from microscopes.lda.testutil import toy_dataset\n",
    "import numpy as np\n",
    "from microscopes.lda import model, runner\n",
    "\n",
    "import itertools"
   ]
  },
  {
   "cell_type": "code",
   "execution_count": 14,
   "metadata": {
    "collapsed": false
   },
   "outputs": [
    {
     "name": "stdout",
     "output_type": "stream",
     "text": [
      "Topics Found: 2\n",
      "Assignments:\n",
      "\t[3, 3, 3, 3, 3, 3, 3, 3, 1, 3, 3, 3, 3, 3]\n",
      "\t[3, 3, 3, 3, 3, 3, 3, 3, 3, 3, 3, 3, 3, 3, 3]\n",
      "\t[3, 3, 3, 3, 3, 3, 3, 3, 3, 3, 3, 3, 3]\n",
      "\t[3, 3, 3, 3, 3, 3, 3, 3, 3, 3, 3, 3, 3]\n",
      "\t[3, 3, 3, 3, 3, 3, 3, 3, 3, 3, 3]\n",
      "\t[3, 3, 3, 3, 3, 3, 3, 3, 3, 3]\n",
      "\t[3, 3, 3, 3, 3, 3, 3, 3, 3, 3]\n",
      "\t[3, 3, 3, 3, 3, 3, 3, 3, 3, 3, 3, 3, 3, 3, 3, 3, 3, 3, 3]\n",
      "\t[3, 3, 3, 3, 3, 3, 3, 3, 3, 3, 3, 3, 3, 3]\n",
      "\t[3, 3, 3, 3, 3, 3, 3, 3, 3, 3]\n"
     ]
    }
   ],
   "source": [
    "N, V = 10, 3\n",
    "defn = model_definition(N, V)\n",
    "data = toy_dataset(defn)\n",
    "prng = rng()\n",
    "\n",
    "latent = initialize(defn, data, prng)\n",
    "r = runner.runner(defn, data, latent)\n",
    "r.run(prng, 1000)\n",
    "\n",
    "print \"Topics Found:\", latent.ntopics()\n",
    "print \"Assignments:\"\n",
    "for doc in latent.assignments():\n",
    "    print \"\\t\", doc"
   ]
  },
  {
   "cell_type": "markdown",
   "metadata": {},
   "source": [
    "### Compare with Teh on Biology Abstract Data"
   ]
  },
  {
   "cell_type": "code",
   "execution_count": 16,
   "metadata": {
    "collapsed": true
   },
   "outputs": [],
   "source": [
    "processed_data_file = \"preprocessed_bio_abstracts.txt\"\n",
    "raw_data_file = \"nematode biology abstracts.txt\""
   ]
  },
  {
   "cell_type": "code",
   "execution_count": 17,
   "metadata": {
    "collapsed": false
   },
   "outputs": [
    {
     "name": "stdout",
     "output_type": "stream",
     "text": [
      "number of abstracts 5828\n",
      "total words 488903\n"
     ]
    }
   ],
   "source": [
    "from sklearn.feature_extraction.text import CountVectorizer\n",
    "import scipy as sp\n",
    "import numpy as np\n",
    "import re\n",
    "from collections import Counter\n",
    "\n",
    "\n",
    "def load_raw(raw_data_file):\n",
    "    with open(raw_data_file, \"r\") as f:\n",
    "        raw_abstracts = f.read()\n",
    "    return raw_abstracts\n",
    "    \n",
    "\n",
    "def vectorize(docs, *args, **qsargs):\n",
    "    vectorizer = CountVectorizer(stop_words='english', *args, **qsargs)\n",
    "    data = vectorizer.fit_transform(docs)\n",
    "    col_freq_filter = np.asarray(data.sum(axis=0) > 9)[0]\n",
    "    print \"total words\", data[:, col_freq_filter].sum()\n",
    "    vocabulary = [t for _, t in sorted([(v, k) for k, v in vectorizer.vocabulary_.iteritems()])]\n",
    "    vectorized_docs = [[] for _ in docs]\n",
    "    for row, col, count in zip(*sp.sparse.find(data)):\n",
    "        if not col_freq_filter[col]:\n",
    "            continue\n",
    "        for word in range(count):\n",
    "            vectorized_docs[row].append(vocabulary[col])\n",
    "    return vectorized_docs\n",
    "\n",
    "\n",
    "def preprocess(raw_abstracts):\n",
    "    processed_abstracts = {}\n",
    "    for _ in re.findall(\"Citation: (.+?)----\", raw_abstracts, re.DOTALL):\n",
    "        citation = _.split(\"\\n\")[0]\n",
    "        _ = re.findall(\"Abstract(.+)\", _, re.DOTALL)[0]\n",
    "        _ = _[2:]\n",
    "\n",
    "        _ = re.sub(\"\\n\", \" \", _)\n",
    "        _ = re.sub(\"[ ]{2,}\", \" \", _)\n",
    "        _ = _.strip()\n",
    "        processed_abstracts[citation] = _\n",
    "    return processed_abstracts\n",
    "\n",
    "processed_abstracts = preprocess(load_raw(raw_data_file))\n",
    "print \"number of abstracts\", len(processed_abstracts)\n",
    "docs = vectorize(processed_abstracts.values())\n",
    "\n",
    "with open(processed_data_file, \"w\") as f:\n",
    "    f.write('\\n'.join([' '.join(doc) for doc in docs]))\n",
    "    \n",
    "vocab = set(list(itertools.chain.from_iterable(docs)))\n",
    "word_to_num = { word: i for i, word in enumerate(vocab)}\n",
    "num_to_word = { i: word for word, i in word_to_num.iteritems()}\n",
    "docs = [[word_to_num[word] for word in doc] for doc in docs]"
   ]
  },
  {
   "cell_type": "code",
   "execution_count": 18,
   "metadata": {
    "collapsed": false
   },
   "outputs": [],
   "source": [
    "N, V = len(docs), len(word_to_num)\n",
    "defn = model_definition(N, V)\n",
    "prng = rng()\n",
    "latent = initialize(defn, docs, prng)\n",
    "r = runner.runner(defn, data, latent)"
   ]
  },
  {
   "cell_type": "code",
   "execution_count": null,
   "metadata": {
    "collapsed": false
   },
   "outputs": [
    {
     "name": "stdout",
     "output_type": "stream",
     "text": [
      "perplexity: 1265.18644827\n",
      "perplexity:"
     ]
    }
   ],
   "source": [
    "for i in range(10):\n",
    "    r.run(prng, 1)\n",
    "    print \"perplexity:\", latent.perplexity()"
   ]
  }
 ],
 "metadata": {
  "kernelspec": {
   "display_name": "Python 2",
   "language": "python",
   "name": "python2"
  },
  "language_info": {
   "codemirror_mode": {
    "name": "ipython",
    "version": 2
   },
   "file_extension": ".py",
   "mimetype": "text/x-python",
   "name": "python",
   "nbconvert_exporter": "python",
   "pygments_lexer": "ipython2",
   "version": "2.7.10"
  }
 },
 "nbformat": 4,
 "nbformat_minor": 0
}
